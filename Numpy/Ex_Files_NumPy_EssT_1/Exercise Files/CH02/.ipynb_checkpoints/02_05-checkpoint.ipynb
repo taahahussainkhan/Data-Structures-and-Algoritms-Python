{
 "cells": [
  {
   "cell_type": "markdown",
   "id": "b3f39a6d",
   "metadata": {},
   "source": [
    "# Creating arrays filled with constant values"
   ]
  },
  {
   "cell_type": "code",
   "execution_count": 1,
   "id": "7f84d598",
   "metadata": {},
   "outputs": [],
   "source": [
    "import numpy as np"
   ]
  },
  {
   "cell_type": "code",
   "execution_count": 6,
   "id": "b2896213",
   "metadata": {},
   "outputs": [
    {
     "name": "stdout",
     "output_type": "stream",
     "text": [
      "[0. 0. 0. 0. 0.]\n"
     ]
    },
    {
     "data": {
      "text/plain": [
       "1"
      ]
     },
     "execution_count": 6,
     "metadata": {},
     "output_type": "execute_result"
    }
   ],
   "source": [
    "first_z_array=np.zeros(5)\n",
    "print(first_z_array)\n",
    "first_z_array.ndim"
   ]
  },
  {
   "cell_type": "code",
   "execution_count": 7,
   "id": "3fb8eb63",
   "metadata": {},
   "outputs": [
    {
     "name": "stdout",
     "output_type": "stream",
     "text": [
      "[[0. 0. 0. 0. 0.]\n",
      " [0. 0. 0. 0. 0.]\n",
      " [0. 0. 0. 0. 0.]\n",
      " [0. 0. 0. 0. 0.]]\n"
     ]
    },
    {
     "data": {
      "text/plain": [
       "2"
      ]
     },
     "execution_count": 7,
     "metadata": {},
     "output_type": "execute_result"
    }
   ],
   "source": [
    "second_z_array=np.zeros((4,5))\n",
    "print(second_z_array)\n",
    "second_z_array.ndim"
   ]
  },
  {
   "cell_type": "code",
   "execution_count": 8,
   "id": "a16ae0ef",
   "metadata": {},
   "outputs": [
    {
     "name": "stdout",
     "output_type": "stream",
     "text": [
      "[1. 1. 1. 1. 1. 1.]\n"
     ]
    },
    {
     "data": {
      "text/plain": [
       "1"
      ]
     },
     "execution_count": 8,
     "metadata": {},
     "output_type": "execute_result"
    }
   ],
   "source": [
    "first_ones_array=np.ones(6)\n",
    "print(first_ones_array)\n",
    "first_ones_array.ndim"
   ]
  },
  {
   "cell_type": "code",
   "execution_count": 11,
   "id": "86bf13b3",
   "metadata": {},
   "outputs": [
    {
     "name": "stdout",
     "output_type": "stream",
     "text": [
      "[[1. 1. 1. 1. 1. 1. 1. 1.]\n",
      " [1. 1. 1. 1. 1. 1. 1. 1.]\n",
      " [1. 1. 1. 1. 1. 1. 1. 1.]\n",
      " [1. 1. 1. 1. 1. 1. 1. 1.]\n",
      " [1. 1. 1. 1. 1. 1. 1. 1.]\n",
      " [1. 1. 1. 1. 1. 1. 1. 1.]\n",
      " [1. 1. 1. 1. 1. 1. 1. 1.]]\n"
     ]
    },
    {
     "data": {
      "text/plain": [
       "2"
      ]
     },
     "execution_count": 11,
     "metadata": {},
     "output_type": "execute_result"
    }
   ],
   "source": [
    "second_ones_array=np.ones((7,8))\n",
    "print(second_ones_array)\n",
    "second_ones_array.ndim"
   ]
  },
  {
   "cell_type": "code",
   "execution_count": 12,
   "id": "f8eb3eda",
   "metadata": {},
   "outputs": [
    {
     "name": "stdout",
     "output_type": "stream",
     "text": [
      "[[1 1 1 1 1]\n",
      " [1 1 1 1 1]\n",
      " [1 1 1 1 1]\n",
      " [1 1 1 1 1]]\n"
     ]
    },
    {
     "data": {
      "text/plain": [
       "2"
      ]
     },
     "execution_count": 12,
     "metadata": {},
     "output_type": "execute_result"
    }
   ],
   "source": [
    "third_ones_array=np.ones((4,5),dtype=int)\n",
    "print(third_ones_array)\n",
    "third_ones_array.ndim"
   ]
  },
  {
   "cell_type": "code",
   "execution_count": 28,
   "id": "5e7ddf35",
   "metadata": {},
   "outputs": [
    {
     "name": "stdout",
     "output_type": "stream",
     "text": [
      "[12 12 12 12 12 12 12 12 12 12]\n"
     ]
    }
   ],
   "source": [
    "first_fill_array = np.empty(10, dtype = int)\n",
    "\n",
    "first_fill_array.fill(12)\n",
    "print(first_fill_array)"
   ]
  },
  {
   "cell_type": "code",
   "execution_count": 27,
   "id": "354d6fdb",
   "metadata": {},
   "outputs": [
    {
     "name": "stdout",
     "output_type": "stream",
     "text": [
      "[10 10 10 10 10]\n"
     ]
    },
    {
     "data": {
      "text/plain": [
       "1"
      ]
     },
     "execution_count": 27,
     "metadata": {},
     "output_type": "execute_result"
    }
   ],
   "source": [
    "first_full_array=np.full(5,10)\n",
    "print(first_full_array)\n",
    "first_full_array.ndim"
   ]
  },
  {
   "cell_type": "code",
   "execution_count": 26,
   "id": "d4277771",
   "metadata": {},
   "outputs": [
    {
     "name": "stdout",
     "output_type": "stream",
     "text": [
      "[[8 8 8 8 8]\n",
      " [8 8 8 8 8]\n",
      " [8 8 8 8 8]\n",
      " [8 8 8 8 8]]\n"
     ]
    },
    {
     "data": {
      "text/plain": [
       "2"
      ]
     },
     "execution_count": 26,
     "metadata": {},
     "output_type": "execute_result"
    }
   ],
   "source": [
    "second_full_array=np.full((4,5),8)\n",
    "print(second_full_array)\n",
    "second_full_array.ndim\n"
   ]
  },
  {
   "cell_type": "code",
   "execution_count": null,
   "id": "6c7db652",
   "metadata": {},
   "outputs": [],
   "source": []
  }
 ],
 "metadata": {
  "kernelspec": {
   "display_name": "Python 3",
   "language": "python",
   "name": "python3"
  },
  "language_info": {
   "codemirror_mode": {
    "name": "ipython",
    "version": 3
   },
   "file_extension": ".py",
   "mimetype": "text/x-python",
   "name": "python",
   "nbconvert_exporter": "python",
   "pygments_lexer": "ipython3",
   "version": "3.8.8"
  }
 },
 "nbformat": 4,
 "nbformat_minor": 5
}
