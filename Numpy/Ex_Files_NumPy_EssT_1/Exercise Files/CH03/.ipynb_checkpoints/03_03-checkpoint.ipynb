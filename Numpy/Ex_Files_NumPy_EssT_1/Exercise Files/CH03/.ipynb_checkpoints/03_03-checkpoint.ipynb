{
 "cells": [
  {
   "cell_type": "markdown",
   "id": "9a6f0a48",
   "metadata": {},
   "source": [
    "# Converting 1-dimensional array into 2-dimensional array"
   ]
  },
  {
   "cell_type": "code",
   "execution_count": 1,
   "id": "e64547a0",
   "metadata": {},
   "outputs": [],
   "source": [
    "import numpy as np"
   ]
  },
  {
   "cell_type": "code",
   "execution_count": 3,
   "id": "beb82ccf",
   "metadata": {},
   "outputs": [
    {
     "name": "stdout",
     "output_type": "stream",
     "text": [
      "[ 1  2  3  4  5  6  7  8  9 10 11 12]\n"
     ]
    }
   ],
   "source": [
    "first_arr=np.arange(1,13)\n",
    "print(first_arr)"
   ]
  },
  {
   "cell_type": "code",
   "execution_count": 5,
   "id": "58495325",
   "metadata": {},
   "outputs": [
    {
     "name": "stdout",
     "output_type": "stream",
     "text": [
      "[[ 1  2  3  4]\n",
      " [ 5  6  7  8]\n",
      " [ 9 10 11 12]]\n"
     ]
    }
   ],
   "source": [
    "second_arr=np.reshape(first_arr, (3,4))\n",
    "print(second_arr)"
   ]
  },
  {
   "cell_type": "code",
   "execution_count": 6,
   "id": "725f30e8",
   "metadata": {},
   "outputs": [
    {
     "name": "stdout",
     "output_type": "stream",
     "text": [
      "[[ 1  2]\n",
      " [ 3  4]\n",
      " [ 5  6]\n",
      " [ 7  8]\n",
      " [ 9 10]\n",
      " [11 12]]\n"
     ]
    }
   ],
   "source": [
    "third_arr=np.reshape(first_arr, (6,2))\n",
    "print(third_arr)"
   ]
  },
  {
   "cell_type": "code",
   "execution_count": 7,
   "id": "1bf7dcd4",
   "metadata": {},
   "outputs": [
    {
     "ename": "ValueError",
     "evalue": "cannot reshape array of size 12 into shape (4,4)",
     "output_type": "error",
     "traceback": [
      "\u001b[0;31m---------------------------------------------------------------------------\u001b[0m",
      "\u001b[0;31mValueError\u001b[0m                                Traceback (most recent call last)",
      "\u001b[0;32m<ipython-input-7-52779eee8c1f>\u001b[0m in \u001b[0;36m<module>\u001b[0;34m\u001b[0m\n\u001b[0;32m----> 1\u001b[0;31m \u001b[0mfourth_arr\u001b[0m\u001b[0;34m=\u001b[0m\u001b[0mnp\u001b[0m\u001b[0;34m.\u001b[0m\u001b[0mreshape\u001b[0m\u001b[0;34m(\u001b[0m\u001b[0mfirst_arr\u001b[0m\u001b[0;34m,\u001b[0m \u001b[0;34m(\u001b[0m\u001b[0;36m4\u001b[0m\u001b[0;34m,\u001b[0m\u001b[0;36m4\u001b[0m\u001b[0;34m)\u001b[0m\u001b[0;34m)\u001b[0m\u001b[0;34m\u001b[0m\u001b[0;34m\u001b[0m\u001b[0m\n\u001b[0m",
      "\u001b[0;32m<__array_function__ internals>\u001b[0m in \u001b[0;36mreshape\u001b[0;34m(*args, **kwargs)\u001b[0m\n",
      "\u001b[0;32m/Applications/anaconda3/lib/python3.8/site-packages/numpy/core/fromnumeric.py\u001b[0m in \u001b[0;36mreshape\u001b[0;34m(a, newshape, order)\u001b[0m\n\u001b[1;32m    297\u001b[0m            [5, 6]])\n\u001b[1;32m    298\u001b[0m     \"\"\"\n\u001b[0;32m--> 299\u001b[0;31m     \u001b[0;32mreturn\u001b[0m \u001b[0m_wrapfunc\u001b[0m\u001b[0;34m(\u001b[0m\u001b[0ma\u001b[0m\u001b[0;34m,\u001b[0m \u001b[0;34m'reshape'\u001b[0m\u001b[0;34m,\u001b[0m \u001b[0mnewshape\u001b[0m\u001b[0;34m,\u001b[0m \u001b[0morder\u001b[0m\u001b[0;34m=\u001b[0m\u001b[0morder\u001b[0m\u001b[0;34m)\u001b[0m\u001b[0;34m\u001b[0m\u001b[0;34m\u001b[0m\u001b[0m\n\u001b[0m\u001b[1;32m    300\u001b[0m \u001b[0;34m\u001b[0m\u001b[0m\n\u001b[1;32m    301\u001b[0m \u001b[0;34m\u001b[0m\u001b[0m\n",
      "\u001b[0;32m/Applications/anaconda3/lib/python3.8/site-packages/numpy/core/fromnumeric.py\u001b[0m in \u001b[0;36m_wrapfunc\u001b[0;34m(obj, method, *args, **kwds)\u001b[0m\n\u001b[1;32m     56\u001b[0m \u001b[0;34m\u001b[0m\u001b[0m\n\u001b[1;32m     57\u001b[0m     \u001b[0;32mtry\u001b[0m\u001b[0;34m:\u001b[0m\u001b[0;34m\u001b[0m\u001b[0;34m\u001b[0m\u001b[0m\n\u001b[0;32m---> 58\u001b[0;31m         \u001b[0;32mreturn\u001b[0m \u001b[0mbound\u001b[0m\u001b[0;34m(\u001b[0m\u001b[0;34m*\u001b[0m\u001b[0margs\u001b[0m\u001b[0;34m,\u001b[0m \u001b[0;34m**\u001b[0m\u001b[0mkwds\u001b[0m\u001b[0;34m)\u001b[0m\u001b[0;34m\u001b[0m\u001b[0;34m\u001b[0m\u001b[0m\n\u001b[0m\u001b[1;32m     59\u001b[0m     \u001b[0;32mexcept\u001b[0m \u001b[0mTypeError\u001b[0m\u001b[0;34m:\u001b[0m\u001b[0;34m\u001b[0m\u001b[0;34m\u001b[0m\u001b[0m\n\u001b[1;32m     60\u001b[0m         \u001b[0;31m# A TypeError occurs if the object does have such a method in its\u001b[0m\u001b[0;34m\u001b[0m\u001b[0;34m\u001b[0m\u001b[0;34m\u001b[0m\u001b[0m\n",
      "\u001b[0;31mValueError\u001b[0m: cannot reshape array of size 12 into shape (4,4)"
     ]
    }
   ],
   "source": [
    "fourth_arr=np.reshape(first_arr, (4,4))"
   ]
  },
  {
   "cell_type": "code",
   "execution_count": 11,
   "id": "bab4f044",
   "metadata": {},
   "outputs": [
    {
     "name": "stdout",
     "output_type": "stream",
     "text": [
      "[[[ 1  2]\n",
      "  [ 3  4]]\n",
      "\n",
      " [[ 5  6]\n",
      "  [ 7  8]]\n",
      "\n",
      " [[ 9 10]\n",
      "  [11 12]]]\n",
      "Dimension of fifth_arr is  3\n"
     ]
    }
   ],
   "source": [
    "fifth_arr=np.reshape(first_arr, (3,2,2))\n",
    "print(fifth_arr)\n",
    "print(\"Dimension of fifth_arr is \" ,fifth_arr.ndim)"
   ]
  },
  {
   "cell_type": "code",
   "execution_count": 12,
   "id": "c600003f",
   "metadata": {},
   "outputs": [
    {
     "name": "stdout",
     "output_type": "stream",
     "text": [
      "[[1 2]\n",
      " [3 4]\n",
      " [5 6]]\n"
     ]
    }
   ],
   "source": [
    "sixth_arr = np.array([[1,2],[3,4],[5,6]])\n",
    "print(sixth_arr)"
   ]
  },
  {
   "cell_type": "code",
   "execution_count": 13,
   "id": "74228177",
   "metadata": {},
   "outputs": [
    {
     "name": "stdout",
     "output_type": "stream",
     "text": [
      "[1 2 3 4 5 6]\n"
     ]
    }
   ],
   "source": [
    "seventh_arr_flat=np.reshape(sixth_arr,-1)\n",
    "print(seventh_arr_flat)"
   ]
  },
  {
   "cell_type": "code",
   "execution_count": 27,
   "id": "1d033967",
   "metadata": {},
   "outputs": [
    {
     "name": "stdout",
     "output_type": "stream",
     "text": [
      "eighth_arr_flat created using flatten: [1 2 3 4 5 6]\n",
      "eighth_arr_flat : [100   2   3   4   5   6]\n",
      "sixth_arr : [[1 2]\n",
      " [3 4]\n",
      " [5 6]]\n"
     ]
    }
   ],
   "source": [
    "eighth_arr_flat=sixth_arr.flatten()\n",
    "print(\"eighth_arr_flat created using flatten:\",eighth_arr_flat)\n",
    "eighth_arr_flat[0]=100\n",
    "print(\"eighth_arr_flat :\",eighth_arr_flat)\n",
    "print(\"sixth_arr :\",sixth_arr)"
   ]
  },
  {
   "cell_type": "code",
   "execution_count": 28,
   "id": "f70b8dcf",
   "metadata": {},
   "outputs": [
    {
     "name": "stdout",
     "output_type": "stream",
     "text": [
      "eighth_arr_flat created using ravel: [1 2 3 4 5 6]\n",
      "ninth_arr_rav : [200   2   3   4   5   6]\n",
      "sixth_arr : [[200   2]\n",
      " [  3   4]\n",
      " [  5   6]]\n"
     ]
    }
   ],
   "source": [
    "ninth_arr_rav=sixth_arr.ravel()\n",
    "print(\"eighth_arr_flat created using ravel:\",ninth_arr_rav)\n",
    "ninth_arr_rav[0]=200\n",
    "print(\"ninth_arr_rav :\",ninth_arr_rav)\n",
    "print(\"sixth_arr :\",sixth_arr)"
   ]
  },
  {
   "cell_type": "code",
   "execution_count": null,
   "id": "a15e2099",
   "metadata": {},
   "outputs": [],
   "source": []
  }
 ],
 "metadata": {
  "kernelspec": {
   "display_name": "Python 3",
   "language": "python",
   "name": "python3"
  },
  "language_info": {
   "codemirror_mode": {
    "name": "ipython",
    "version": 3
   },
   "file_extension": ".py",
   "mimetype": "text/x-python",
   "name": "python",
   "nbconvert_exporter": "python",
   "pygments_lexer": "ipython3",
   "version": "3.8.8"
  }
 },
 "nbformat": 4,
 "nbformat_minor": 5
}
