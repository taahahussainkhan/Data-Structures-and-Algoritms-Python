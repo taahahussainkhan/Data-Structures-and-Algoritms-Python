{
 "cells": [
  {
   "cell_type": "markdown",
   "id": "e1dff206",
   "metadata": {},
   "source": [
    "## Structured arrays"
   ]
  },
  {
   "cell_type": "code",
   "execution_count": 1,
   "id": "6bf93478",
   "metadata": {},
   "outputs": [],
   "source": [
    "import numpy as np"
   ]
  },
  {
   "cell_type": "code",
   "execution_count": 2,
   "id": "fc356f8b",
   "metadata": {},
   "outputs": [
    {
     "data": {
      "text/plain": [
       "array([('Lazaro', 'Oneal', '0526993', 2009, 2.33),\n",
       "       ('Dorie', 'Salinas', '0710325', 2006, 2.26),\n",
       "       ('Mathilde', 'Hooper', '0496813', 2000, 2.56),\n",
       "       ('Nell', 'Gomez', '0740631', 2003, 2.22),\n",
       "       ('Lachelle', 'Jordan', '0490888', 2003, 2.13),\n",
       "       ('Claud', 'Waller', '0922492', 2004, 3.6 ),\n",
       "       ('Bob', 'Steele', '0264843', 2002, 2.79),\n",
       "       ('Zelma', 'Welch', '0885463', 2007, 3.69)],\n",
       "      dtype=[('name', '<U10'), ('surname', '<U10'), ('id', '<U7'), ('graduation_year', '<i4'), ('gpa', '<f8')])"
      ]
     },
     "execution_count": 2,
     "metadata": {},
     "output_type": "execute_result"
    }
   ],
   "source": [
    "student_records = np.array([('Lazaro','Oneal', '0526993', 2009, 2.33), ('Dorie','Salinas', '0710325', 2006, 2.26), ('Mathilde','Hooper', '0496813', 2000, 2.56),('Nell','Gomez', '0740631', 2003, 2.22),('Lachelle','Jordan', '0490888', 2003, 2.13),('Claud','Waller', '0922492', 2004, 3.60),('Bob','Steele', '0264843', 2002, 2.79),('Zelma','Welch', '0885463', 2007, 3.69)],\n",
    "       dtype=[('name', (np.str_, 10)),('surname', (np.str_, 10)), ('id', (np.str_,7)),('graduation_year', np.int32), ('gpa', np.float64)])\n",
    "student_records"
   ]
  },
  {
   "cell_type": "code",
   "execution_count": 3,
   "id": "f6372465",
   "metadata": {},
   "outputs": [
    {
     "data": {
      "text/plain": [
       "array([('0526993', 2009), ('0710325', 2006), ('0496813', 2000),\n",
       "       ('0740631', 2003), ('0490888', 2003), ('0922492', 2004),\n",
       "       ('0264843', 2002), ('0885463', 2007)],\n",
       "      dtype={'names':['id','graduation_year'], 'formats':['<U7','<i4'], 'offsets':[80,108], 'itemsize':120})"
      ]
     },
     "execution_count": 3,
     "metadata": {},
     "output_type": "execute_result"
    }
   ],
   "source": [
    "student_records[['id','graduation_year']]     "
   ]
  },
  {
   "cell_type": "code",
   "execution_count": 4,
   "id": "32c531c3",
   "metadata": {},
   "outputs": [
    {
     "name": "stdout",
     "output_type": "stream",
     "text": [
      "Students sorted according to the surname :\n",
      " [('Nell', 'Gomez', '0740631', 2003, 2.22)\n",
      " ('Mathilde', 'Hooper', '0496813', 2000, 2.56)\n",
      " ('Lachelle', 'Jordan', '0490888', 2003, 2.13)\n",
      " ('Lazaro', 'Oneal', '0526993', 2009, 2.33)\n",
      " ('Dorie', 'Salinas', '0710325', 2006, 2.26)\n",
      " ('Bob', 'Steele', '0264843', 2002, 2.79)\n",
      " ('Claud', 'Waller', '0922492', 2004, 3.6 )\n",
      " ('Zelma', 'Welch', '0885463', 2007, 3.69)]\n"
     ]
    }
   ],
   "source": [
    "students_sorted_by_surname = np.sort(student_records, order='surname')\n",
    "print('Students sorted according to the surname :\\n', students_sorted_by_surname)"
   ]
  },
  {
   "cell_type": "code",
   "execution_count": 5,
   "id": "1d6db625",
   "metadata": {},
   "outputs": [
    {
     "name": "stdout",
     "output_type": "stream",
     "text": [
      "Students sorted according to the graduation year :\n",
      " [('Mathilde', 'Hooper', '0496813', 2000, 2.56)\n",
      " ('Bob', 'Steele', '0264843', 2002, 2.79)\n",
      " ('Lachelle', 'Jordan', '0490888', 2003, 2.13)\n",
      " ('Nell', 'Gomez', '0740631', 2003, 2.22)\n",
      " ('Claud', 'Waller', '0922492', 2004, 3.6 )\n",
      " ('Dorie', 'Salinas', '0710325', 2006, 2.26)\n",
      " ('Zelma', 'Welch', '0885463', 2007, 3.69)\n",
      " ('Lazaro', 'Oneal', '0526993', 2009, 2.33)]\n"
     ]
    }
   ],
   "source": [
    "students_sorted_by_grad_year = np.sort(student_records, order='graduation_year')\n",
    "print('Students sorted according to the graduation year :\\n', students_sorted_by_grad_year)"
   ]
  },
  {
   "cell_type": "code",
   "execution_count": null,
   "id": "64925a8c",
   "metadata": {},
   "outputs": [],
   "source": []
  }
 ],
 "metadata": {
  "kernelspec": {
   "display_name": "Python 3",
   "language": "python",
   "name": "python3"
  },
  "language_info": {
   "codemirror_mode": {
    "name": "ipython",
    "version": 3
   },
   "file_extension": ".py",
   "mimetype": "text/x-python",
   "name": "python",
   "nbconvert_exporter": "python",
   "pygments_lexer": "ipython3",
   "version": "3.8.8"
  }
 },
 "nbformat": 4,
 "nbformat_minor": 5
}
