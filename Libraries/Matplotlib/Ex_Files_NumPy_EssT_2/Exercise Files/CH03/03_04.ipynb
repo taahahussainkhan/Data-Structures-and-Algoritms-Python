{
 "cells": [
  {
   "cell_type": "markdown",
   "id": "13885be7",
   "metadata": {},
   "source": [
    "## Dates and time in NumPy"
   ]
  },
  {
   "cell_type": "code",
   "execution_count": 1,
   "id": "845d34f7",
   "metadata": {},
   "outputs": [],
   "source": [
    "import numpy as np"
   ]
  },
  {
   "cell_type": "code",
   "execution_count": 2,
   "id": "141b4a28",
   "metadata": {},
   "outputs": [
    {
     "data": {
      "text/plain": [
       "numpy.datetime64('2022-03-01')"
      ]
     },
     "execution_count": 2,
     "metadata": {},
     "output_type": "execute_result"
    }
   ],
   "source": [
    "np.datetime64('2022-03-01') "
   ]
  },
  {
   "cell_type": "code",
   "execution_count": 3,
   "id": "3ed9a0cc",
   "metadata": {},
   "outputs": [
    {
     "data": {
      "text/plain": [
       "numpy.datetime64('2022-03')"
      ]
     },
     "execution_count": 3,
     "metadata": {},
     "output_type": "execute_result"
    }
   ],
   "source": [
    "np.datetime64('2022-03') "
   ]
  },
  {
   "cell_type": "code",
   "execution_count": 4,
   "id": "f00e54f0",
   "metadata": {},
   "outputs": [
    {
     "name": "stdout",
     "output_type": "stream",
     "text": [
      "Number of weekdays in 2022:\n",
      "260\n"
     ]
    }
   ],
   "source": [
    "print('Number of weekdays in 2022:')\n",
    "print(np.busday_count('2022','2023'))"
   ]
  },
  {
   "cell_type": "code",
   "execution_count": 5,
   "id": "39cfad4f",
   "metadata": {},
   "outputs": [
    {
     "name": "stdout",
     "output_type": "stream",
     "text": [
      "Number of weekdays in June 2022:\n"
     ]
    },
    {
     "data": {
      "text/plain": [
       "22"
      ]
     },
     "execution_count": 5,
     "metadata": {},
     "output_type": "execute_result"
    }
   ],
   "source": [
    "print('Number of weekdays in June 2022:')\n",
    "np.busday_count('2022-06', '2022-07')"
   ]
  },
  {
   "cell_type": "code",
   "execution_count": 6,
   "id": "b51bff54",
   "metadata": {},
   "outputs": [
    {
     "data": {
      "text/plain": [
       "False"
      ]
     },
     "execution_count": 6,
     "metadata": {},
     "output_type": "execute_result"
    }
   ],
   "source": [
    "np.is_busday(np.datetime64('2022-06-05'))"
   ]
  },
  {
   "cell_type": "code",
   "execution_count": null,
   "id": "b47c300c",
   "metadata": {},
   "outputs": [],
   "source": []
  }
 ],
 "metadata": {
  "kernelspec": {
   "display_name": "Python 3",
   "language": "python",
   "name": "python3"
  },
  "language_info": {
   "codemirror_mode": {
    "name": "ipython",
    "version": 3
   },
   "file_extension": ".py",
   "mimetype": "text/x-python",
   "name": "python",
   "nbconvert_exporter": "python",
   "pygments_lexer": "ipython3",
   "version": "3.8.8"
  }
 },
 "nbformat": 4,
 "nbformat_minor": 5
}
