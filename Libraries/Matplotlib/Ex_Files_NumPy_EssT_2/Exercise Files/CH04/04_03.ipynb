{
 "cells": [
  {
   "cell_type": "markdown",
   "id": "50bf5426",
   "metadata": {},
   "source": [
    "## Polynomial mathematics"
   ]
  },
  {
   "cell_type": "code",
   "execution_count": 1,
   "id": "ced3429f",
   "metadata": {},
   "outputs": [],
   "source": [
    "import numpy as np\n",
    "from numpy.polynomial import polynomial"
   ]
  },
  {
   "cell_type": "code",
   "execution_count": 2,
   "id": "0eb80544",
   "metadata": {},
   "outputs": [
    {
     "data": {
      "text/latex": [
       "$x \\mapsto \\text{2.0} - \\text{3.0}\\,x + \\text{1.0}\\,x^{2}$"
      ],
      "text/plain": [
       "Polynomial([ 2., -3.,  1.], domain=[-1,  1], window=[-1,  1])"
      ]
     },
     "execution_count": 2,
     "metadata": {},
     "output_type": "execute_result"
    }
   ],
   "source": [
    "first_polynomial = np.polynomial.Polynomial([2, -3, 1])\n",
    "first_polynomial"
   ]
  },
  {
   "cell_type": "code",
   "execution_count": 3,
   "id": "e6c156cb",
   "metadata": {},
   "outputs": [
    {
     "data": {
      "text/latex": [
       "$x \\mapsto \\text{2.0} - \\text{3.0}\\,x + \\text{1.0}\\,x^{2}$"
      ],
      "text/plain": [
       "Polynomial([ 2., -3.,  1.], domain=[-1.,  1.], window=[-1.,  1.])"
      ]
     },
     "execution_count": 3,
     "metadata": {},
     "output_type": "execute_result"
    }
   ],
   "source": [
    "second_polynomial = np.polynomial.Polynomial.fromroots([1, 2])\n",
    "second_polynomial"
   ]
  },
  {
   "cell_type": "code",
   "execution_count": 4,
   "id": "ad6bf8c0",
   "metadata": {},
   "outputs": [
    {
     "data": {
      "text/plain": [
       "array([1., 2.])"
      ]
     },
     "execution_count": 4,
     "metadata": {},
     "output_type": "execute_result"
    }
   ],
   "source": [
    "first_polynomial.roots()"
   ]
  },
  {
   "cell_type": "code",
   "execution_count": 5,
   "id": "9f1ac97f",
   "metadata": {},
   "outputs": [
    {
     "data": {
      "text/plain": [
       "array([1., 2.])"
      ]
     },
     "execution_count": 5,
     "metadata": {},
     "output_type": "execute_result"
    }
   ],
   "source": [
    "second_polynomial.roots()"
   ]
  },
  {
   "cell_type": "markdown",
   "id": "38844468",
   "metadata": {},
   "source": [
    "### y=x<sup>4</sup>+2x<sup>3</sup>+3x<sup>2</sup>+4x+5, x=1\n",
    "### y=?"
   ]
  },
  {
   "cell_type": "code",
   "execution_count": 8,
   "id": "1e5fa16c",
   "metadata": {},
   "outputs": [
    {
     "data": {
      "text/plain": [
       "15"
      ]
     },
     "execution_count": 8,
     "metadata": {},
     "output_type": "execute_result"
    }
   ],
   "source": [
    "np.polyval([5,4,3,2,1], 1)"
   ]
  },
  {
   "cell_type": "code",
   "execution_count": 9,
   "id": "67571660",
   "metadata": {},
   "outputs": [
    {
     "data": {
      "text/latex": [
       "$x \\mapsto \\text{1.0} + \\text{2.0}\\,x + \\text{3.0}\\,x^{2} + \\text{4.0}\\,x^{3} + \\text{5.0}\\,x^{4}$"
      ],
      "text/plain": [
       "Polynomial([1., 2., 3., 4., 5.], domain=[-1,  1], window=[-1,  1])"
      ]
     },
     "execution_count": 9,
     "metadata": {},
     "output_type": "execute_result"
    }
   ],
   "source": [
    "third_polynomial = np.polynomial.Polynomial([1,2,3,4,5])\n",
    "third_polynomial"
   ]
  },
  {
   "cell_type": "code",
   "execution_count": 10,
   "id": "fd9d370b",
   "metadata": {},
   "outputs": [
    {
     "data": {
      "text/latex": [
       "$x \\mapsto \\color{LightGray}{\\text{0.0}} + \\text{1.0}\\,x + \\text{1.0}\\,x^{2} + \\text{1.0}\\,x^{3} + \\text{1.0}\\,x^{4} + \\text{1.0}\\,x^{5}$"
      ],
      "text/plain": [
       "Polynomial([0., 1., 1., 1., 1., 1.], domain=[-1.,  1.], window=[-1.,  1.])"
      ]
     },
     "execution_count": 10,
     "metadata": {},
     "output_type": "execute_result"
    }
   ],
   "source": [
    "integral=third_polynomial.integ()\n",
    "integral"
   ]
  },
  {
   "cell_type": "code",
   "execution_count": 11,
   "id": "e5eb8c23",
   "metadata": {},
   "outputs": [
    {
     "data": {
      "text/latex": [
       "$x \\mapsto \\text{1.0} + \\text{2.0}\\,x + \\text{3.0}\\,x^{2} + \\text{4.0}\\,x^{3} + \\text{5.0}\\,x^{4}$"
      ],
      "text/plain": [
       "Polynomial([1., 2., 3., 4., 5.], domain=[-1.,  1.], window=[-1.,  1.])"
      ]
     },
     "execution_count": 11,
     "metadata": {},
     "output_type": "execute_result"
    }
   ],
   "source": [
    "integral.deriv()"
   ]
  },
  {
   "cell_type": "code",
   "execution_count": 12,
   "id": "96e6bff3",
   "metadata": {},
   "outputs": [
    {
     "data": {
      "text/latex": [
       "$x \\mapsto \\text{2.0} + \\text{6.0}\\,x + \\text{12.0}\\,x^{2} + \\text{20.0}\\,x^{3}$"
      ],
      "text/plain": [
       "Polynomial([ 2.,  6., 12., 20.], domain=[-1.,  1.], window=[-1.,  1.])"
      ]
     },
     "execution_count": 12,
     "metadata": {},
     "output_type": "execute_result"
    }
   ],
   "source": [
    "derivative=third_polynomial.deriv()\n",
    "derivative"
   ]
  },
  {
   "cell_type": "code",
   "execution_count": null,
   "id": "4984899b",
   "metadata": {},
   "outputs": [],
   "source": []
  }
 ],
 "metadata": {
  "kernelspec": {
   "display_name": "Python 3",
   "language": "python",
   "name": "python3"
  },
  "language_info": {
   "codemirror_mode": {
    "name": "ipython",
    "version": 3
   },
   "file_extension": ".py",
   "mimetype": "text/x-python",
   "name": "python",
   "nbconvert_exporter": "python",
   "pygments_lexer": "ipython3",
   "version": "3.8.8"
  }
 },
 "nbformat": 4,
 "nbformat_minor": 5
}
