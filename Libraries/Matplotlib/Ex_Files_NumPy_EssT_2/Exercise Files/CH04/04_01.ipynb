{
 "cells": [
  {
   "cell_type": "markdown",
   "id": "3ad93982",
   "metadata": {},
   "source": [
    "## Linear algebra capabilities in NumPy"
   ]
  },
  {
   "cell_type": "code",
   "execution_count": 1,
   "id": "3d6c6c0d",
   "metadata": {},
   "outputs": [],
   "source": [
    "import numpy as np"
   ]
  },
  {
   "cell_type": "code",
   "execution_count": 2,
   "id": "4308b805",
   "metadata": {},
   "outputs": [
    {
     "data": {
      "text/plain": [
       "array([[ 0,  1,  2,  3],\n",
       "       [ 4,  5,  6,  7],\n",
       "       [ 8,  9, 10, 11],\n",
       "       [12, 13, 14, 15]])"
      ]
     },
     "execution_count": 2,
     "metadata": {},
     "output_type": "execute_result"
    }
   ],
   "source": [
    "first_array = np.arange(16).reshape(4,4) \n",
    "first_array"
   ]
  },
  {
   "cell_type": "code",
   "execution_count": 3,
   "id": "5116c92b",
   "metadata": {},
   "outputs": [
    {
     "data": {
      "text/plain": [
       "matrix([[ 0,  1,  2,  3],\n",
       "        [ 4,  5,  6,  7],\n",
       "        [ 8,  9, 10, 11],\n",
       "        [12, 13, 14, 15]])"
      ]
     },
     "execution_count": 3,
     "metadata": {},
     "output_type": "execute_result"
    }
   ],
   "source": [
    "first_matrix = np.matrix(first_array)\n",
    "first_matrix"
   ]
  },
  {
   "cell_type": "code",
   "execution_count": 4,
   "id": "32e6cf8d",
   "metadata": {},
   "outputs": [
    {
     "data": {
      "text/plain": [
       "matrix([[1., 0., 0., 0.],\n",
       "        [0., 1., 0., 0.],\n",
       "        [0., 0., 1., 0.],\n",
       "        [0., 0., 0., 1.]])"
      ]
     },
     "execution_count": 4,
     "metadata": {},
     "output_type": "execute_result"
    }
   ],
   "source": [
    "second_matrix = np.matrix(np.identity(4))\n",
    "second_matrix"
   ]
  },
  {
   "cell_type": "code",
   "execution_count": 5,
   "id": "c75ef526",
   "metadata": {},
   "outputs": [
    {
     "data": {
      "text/plain": [
       "array([[1, 2, 0],\n",
       "       [4, 3, 4]])"
      ]
     },
     "execution_count": 5,
     "metadata": {},
     "output_type": "execute_result"
    }
   ],
   "source": [
    "matrix_a=np.random.randint(5,size=(2,3))\n",
    "matrix_a"
   ]
  },
  {
   "cell_type": "code",
   "execution_count": 6,
   "id": "fb8df532",
   "metadata": {},
   "outputs": [
    {
     "data": {
      "text/plain": [
       "array([[1, 1],\n",
       "       [4, 1],\n",
       "       [0, 3]])"
      ]
     },
     "execution_count": 6,
     "metadata": {},
     "output_type": "execute_result"
    }
   ],
   "source": [
    "matrix_b=np.random.randint(5,size=(3,2))\n",
    "matrix_b"
   ]
  },
  {
   "cell_type": "code",
   "execution_count": 7,
   "id": "26f019ba",
   "metadata": {},
   "outputs": [
    {
     "data": {
      "text/plain": [
       "array([[ 9,  3],\n",
       "       [16, 19]])"
      ]
     },
     "execution_count": 7,
     "metadata": {},
     "output_type": "execute_result"
    }
   ],
   "source": [
    "np.matmul(matrix_a,matrix_b)"
   ]
  },
  {
   "cell_type": "code",
   "execution_count": 8,
   "id": "354e00be",
   "metadata": {},
   "outputs": [
    {
     "data": {
      "text/plain": [
       "matrix([[ 0,  1,  2],\n",
       "        [ 1,  0,  3],\n",
       "        [ 4, -3,  8]])"
      ]
     },
     "execution_count": 8,
     "metadata": {},
     "output_type": "execute_result"
    }
   ],
   "source": [
    "matrix_c=np.matrix(\"0 1 2;1 0 3;4 -3 8\")\n",
    "matrix_c"
   ]
  },
  {
   "cell_type": "code",
   "execution_count": 9,
   "id": "82c6a830",
   "metadata": {},
   "outputs": [
    {
     "data": {
      "text/plain": [
       "matrix([[-4.5,  7. , -1.5],\n",
       "        [-2. ,  4. , -1. ],\n",
       "        [ 1.5, -2. ,  0.5]])"
      ]
     },
     "execution_count": 9,
     "metadata": {},
     "output_type": "execute_result"
    }
   ],
   "source": [
    "inverse = np.linalg.inv(matrix_c)\n",
    "inverse"
   ]
  },
  {
   "cell_type": "code",
   "execution_count": 10,
   "id": "c8c1f6c9",
   "metadata": {},
   "outputs": [
    {
     "name": "stdout",
     "output_type": "stream",
     "text": [
      "[[1. 0. 0.]\n",
      " [0. 1. 0.]\n",
      " [0. 0. 1.]]\n"
     ]
    }
   ],
   "source": [
    "print(matrix_c*inverse)"
   ]
  },
  {
   "cell_type": "code",
   "execution_count": 11,
   "id": "cc84a342",
   "metadata": {},
   "outputs": [
    {
     "data": {
      "text/plain": [
       "matrix([[ 1, -2,  1],\n",
       "        [ 0,  2, -8],\n",
       "        [-4,  5,  9]])"
      ]
     },
     "execution_count": 11,
     "metadata": {},
     "output_type": "execute_result"
    }
   ],
   "source": [
    "A =np.mat(\"1 -2 1;0 2 -8;-4 5 9\")\n",
    "A"
   ]
  },
  {
   "cell_type": "code",
   "execution_count": 12,
   "id": "f2da4949",
   "metadata": {},
   "outputs": [
    {
     "data": {
      "text/plain": [
       "array([  0,  16, -18])"
      ]
     },
     "execution_count": 12,
     "metadata": {},
     "output_type": "execute_result"
    }
   ],
   "source": [
    "b = np.array([0, 16, -18])\n",
    "b"
   ]
  },
  {
   "cell_type": "code",
   "execution_count": 13,
   "id": "cb36db1c",
   "metadata": {},
   "outputs": [
    {
     "name": "stdout",
     "output_type": "stream",
     "text": [
      "Solution [58. 32.  6.]\n"
     ]
    }
   ],
   "source": [
    "x = np.linalg.solve(A, b)\n",
    "print(\"Solution\", x)"
   ]
  },
  {
   "cell_type": "code",
   "execution_count": null,
   "id": "1344911d",
   "metadata": {},
   "outputs": [],
   "source": []
  }
 ],
 "metadata": {
  "kernelspec": {
   "display_name": "Python 3",
   "language": "python",
   "name": "python3"
  },
  "language_info": {
   "codemirror_mode": {
    "name": "ipython",
    "version": 3
   },
   "file_extension": ".py",
   "mimetype": "text/x-python",
   "name": "python",
   "nbconvert_exporter": "python",
   "pygments_lexer": "ipython3",
   "version": "3.8.8"
  }
 },
 "nbformat": 4,
 "nbformat_minor": 5
}
