{
 "cells": [
  {
   "cell_type": "markdown",
   "id": "f2714079",
   "metadata": {},
   "source": [
    "## Application -linear regression"
   ]
  },
  {
   "cell_type": "code",
   "execution_count": 2,
   "id": "4725949b",
   "metadata": {},
   "outputs": [],
   "source": [
    "import numpy as np\n",
    "import matplotlib.pyplot as plt"
   ]
  },
  {
   "cell_type": "markdown",
   "id": "da69822c",
   "metadata": {},
   "source": [
    "# House market\n",
    "- Input: Price data from 2012 - 2021\n",
    "- Output: Avarage house market 2022?\n",
    "- Asume Relationship - squared\n",
    "- y=ax<sup>2</sup>+bx+c"
   ]
  },
  {
   "cell_type": "code",
   "execution_count": 3,
   "id": "ad2a1d61",
   "metadata": {},
   "outputs": [
    {
     "data": {
      "text/plain": [
       "array([ 1,  2,  3,  4,  5,  6,  7,  8,  9, 10])"
      ]
     },
     "execution_count": 3,
     "metadata": {},
     "output_type": "execute_result"
    }
   ],
   "source": [
    "year = np.arange(1,11)\n",
    "price = np.array([129000, 133000, 138000, 144000, 142000, 141000, 150000, 135000, 134000, 137000]) \n",
    "year "
   ]
  },
  {
   "cell_type": "code",
   "execution_count": 4,
   "id": "f8d5acdf",
   "metadata": {},
   "outputs": [
    {
     "name": "stdout",
     "output_type": "stream",
     "text": [
      "a: -594.6969696969708\n",
      "b: 7032.575757575762\n",
      "c: 122516.66666666664\n"
     ]
    }
   ],
   "source": [
    "a, b, c = np.polyfit(year, price, 2) \n",
    "print (\"a:\",a)\n",
    "print (\"b:\",b)\n",
    "print (\"c:\",c)"
   ]
  },
  {
   "cell_type": "code",
   "execution_count": 5,
   "id": "bc77e767",
   "metadata": {},
   "outputs": [
    {
     "name": "stdout",
     "output_type": "stream",
     "text": [
      "Estimated price for 2022: 127916.66666666656\n"
     ]
    }
   ],
   "source": [
    "print(\"Estimated price for 2022:\",a*11**2 + b*11 + c )"
   ]
  },
  {
   "cell_type": "code",
   "execution_count": 6,
   "id": "4609d19c",
   "metadata": {},
   "outputs": [
    {
     "data": {
      "text/plain": [
       "Text(0, 0.5, 'average house price')"
      ]
     },
     "execution_count": 6,
     "metadata": {},
     "output_type": "execute_result"
    },
    {
     "data": {
      "image/png": "[encoded data removed]",
      "text/plain": [
       "<Figure size 432x288 with 1 Axes>"
      ]
     },
     "metadata": {
      "needs_background": "light"
     },
     "output_type": "display_data"
    }
   ],
   "source": [
    "plt.plot(year,price, color = 'blue')\n",
    "plt.scatter(year,price, color = 'blue')\n",
    "plt.scatter(11, a*11**2 + b*11 + c ,color='red')\n",
    "plt.title('Linear regression')\n",
    "plt.xlabel('year')\n",
    "plt.ylabel('average house price')"
   ]
  },
  {
   "cell_type": "code",
   "execution_count": null,
   "id": "1003f1ad",
   "metadata": {},
   "outputs": [],
   "source": []
  }
 ],
 "metadata": {
  "kernelspec": {
   "display_name": "Python 3",
   "language": "python",
   "name": "python3"
  },
  "language_info": {
   "codemirror_mode": {
    "name": "ipython",
    "version": 3
   },
   "file_extension": ".py",
   "mimetype": "text/x-python",
   "name": "python",
   "nbconvert_exporter": "python",
   "pygments_lexer": "ipython3",
   "version": "3.8.8"
  }
 },
 "nbformat": 4,
 "nbformat_minor": 5
}
