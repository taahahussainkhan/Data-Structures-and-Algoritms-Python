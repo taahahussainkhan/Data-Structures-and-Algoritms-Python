{
 "cells": [
  {
   "cell_type": "markdown",
   "id": "e0c148c5",
   "metadata": {},
   "source": [
    "## Decomposition"
   ]
  },
  {
   "cell_type": "code",
   "execution_count": 2,
   "id": "d9a264cf",
   "metadata": {},
   "outputs": [],
   "source": [
    "import numpy as np"
   ]
  },
  {
   "cell_type": "code",
   "execution_count": 5,
   "id": "a67a0a03",
   "metadata": {},
   "outputs": [
    {
     "name": "stdout",
     "output_type": "stream",
     "text": [
      "Matrix:\n",
      " [[ 4  8]\n",
      " [10 14]]\n"
     ]
    }
   ],
   "source": [
    "first_matrix=np.matrix([[4,8],[10,14]])\n",
    "print(\"Matrix:\\n\",first_matrix)"
   ]
  },
  {
   "cell_type": "code",
   "execution_count": 6,
   "id": "62b15362",
   "metadata": {},
   "outputs": [
    {
     "name": "stdout",
     "output_type": "stream",
     "text": [
      "Eigenvalues: [-1.24695077 19.24695077]\n",
      "Eigenvectors: [[-0.83619408 -0.46462222]\n",
      " [ 0.54843365 -0.885509  ]]\n"
     ]
    }
   ],
   "source": [
    "eigenvalues, eigenvectors = np.linalg.eig(first_matrix)\n",
    "print(\"Eigenvalues:\", eigenvalues) \n",
    "print(\"Eigenvectors:\", eigenvectors) "
   ]
  },
  {
   "cell_type": "code",
   "execution_count": 7,
   "id": "bad4b6f7",
   "metadata": {},
   "outputs": [
    {
     "name": "stdout",
     "output_type": "stream",
     "text": [
      "Eigenvalues: [-1.24695077 19.24695077]\n"
     ]
    }
   ],
   "source": [
    "eigenvalues= np.linalg.eigvals(first_matrix)\n",
    "print(\"Eigenvalues:\", eigenvalues) "
   ]
  },
  {
   "cell_type": "code",
   "execution_count": 9,
   "id": "2cee3288",
   "metadata": {},
   "outputs": [
    {
     "name": "stdout",
     "output_type": "stream",
     "text": [
      "A\n",
      " [[3 1 4]\n",
      " [1 5 9]\n",
      " [2 6 5]]\n",
      "U:  [[-0.32463251  0.79898436  0.50619929]\n",
      " [-0.75307473  0.1054674  -0.64942672]\n",
      " [-0.57226932 -0.59203093  0.56745679]]\n",
      "Sigma :  [13.58235799  2.84547726  2.32869289]\n",
      "V :  [[-0.21141476 -0.55392606 -0.80527617]\n",
      " [ 0.46331722 -0.78224635  0.41644663]\n",
      " [ 0.86060499  0.28505536 -0.42202191]]\n"
     ]
    }
   ],
   "source": [
    "A = np.mat(\"3 1 4;1 5 9;2 6 5\")\n",
    "print(\"A\\n\", A)\n",
    "\n",
    "U, Sigma, V = np.linalg.svd(A, full_matrices=False)\n",
    "\n",
    "print(\"U: \",U)\n",
    "print(\"Sigma : \",Sigma)\n",
    "print(\"V : \", V)\n"
   ]
  },
  {
   "cell_type": "code",
   "execution_count": 10,
   "id": "3c849079",
   "metadata": {},
   "outputs": [
    {
     "name": "stdout",
     "output_type": "stream",
     "text": [
      "Product\n",
      " [[3. 1. 4.]\n",
      " [1. 5. 9.]\n",
      " [2. 6. 5.]]\n"
     ]
    }
   ],
   "source": [
    "print(\"Product\\n\", U * np.diag(Sigma) * V)"
   ]
  },
  {
   "cell_type": "markdown",
   "id": "0a0d607c",
   "metadata": {},
   "source": [
    "# M=Q*R"
   ]
  },
  {
   "cell_type": "code",
   "execution_count": 12,
   "id": "3821d30c",
   "metadata": {},
   "outputs": [
    {
     "data": {
      "text/plain": [
       "matrix([[3, 1, 4],\n",
       "        [1, 5, 9],\n",
       "        [2, 6, 5]])"
      ]
     },
     "execution_count": 12,
     "metadata": {},
     "output_type": "execute_result"
    }
   ],
   "source": [
    "A"
   ]
  },
  {
   "cell_type": "code",
   "execution_count": 15,
   "id": "a3bda44a",
   "metadata": {},
   "outputs": [
    {
     "data": {
      "text/plain": [
       "matrix([[ 0.26666667],\n",
       "        [ 0.46666667],\n",
       "        [-0.06666667]])"
      ]
     },
     "execution_count": 15,
     "metadata": {},
     "output_type": "execute_result"
    }
   ],
   "source": [
    "b = np.array([1,2,3]).reshape(3,1) \n",
    "q, r = np.linalg.qr(A) \n",
    "x = np.dot(np.linalg.inv(r), np.dot(q.T, b)) \n",
    "x "
   ]
  },
  {
   "cell_type": "code",
   "execution_count": 16,
   "id": "98a7db4e",
   "metadata": {},
   "outputs": [
    {
     "data": {
      "text/plain": [
       "array([[ 0.26666667],\n",
       "       [ 0.46666667],\n",
       "       [-0.06666667]])"
      ]
     },
     "execution_count": 16,
     "metadata": {},
     "output_type": "execute_result"
    }
   ],
   "source": [
    "np.linalg.solve(A,b)"
   ]
  },
  {
   "cell_type": "code",
   "execution_count": null,
   "id": "2a52bac2",
   "metadata": {},
   "outputs": [],
   "source": []
  }
 ],
 "metadata": {
  "kernelspec": {
   "display_name": "Python 3",
   "language": "python",
   "name": "python3"
  },
  "language_info": {
   "codemirror_mode": {
    "name": "ipython",
    "version": 3
   },
   "file_extension": ".py",
   "mimetype": "text/x-python",
   "name": "python",
   "nbconvert_exporter": "python",
   "pygments_lexer": "ipython3",
   "version": "3.8.8"
  }
 },
 "nbformat": 4,
 "nbformat_minor": 5
}
