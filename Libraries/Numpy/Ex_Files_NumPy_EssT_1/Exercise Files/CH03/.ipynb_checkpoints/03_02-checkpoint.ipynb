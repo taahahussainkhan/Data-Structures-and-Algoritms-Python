{
 "cells": [
  {
   "cell_type": "markdown",
   "id": "7bfb0932",
   "metadata": {},
   "source": [
    "# Copies and views"
   ]
  },
  {
   "cell_type": "code",
   "execution_count": 18,
   "id": "d7447527",
   "metadata": {},
   "outputs": [],
   "source": [
    "import numpy as np"
   ]
  },
  {
   "cell_type": "code",
   "execution_count": 19,
   "id": "d786e2e4",
   "metadata": {},
   "outputs": [],
   "source": [
    "# creating array\n",
    "students_ids_number = np.array([1111,1212,1313,1414,1515,1616,1717,1818])"
   ]
  },
  {
   "cell_type": "code",
   "execution_count": 22,
   "id": "af3387c3",
   "metadata": {},
   "outputs": [
    {
     "name": "stdout",
     "output_type": "stream",
     "text": [
      "id of students_ids_number 140431229988272\n",
      "id of students_ids_number_reg 140431229988272\n"
     ]
    }
   ],
   "source": [
    "students_ids_number_reg= students_ids_number\n",
    "print(\"id of students_ids_number\", id(students_ids_number))\n",
    "print(\"id of students_ids_number_reg\", id(students_ids_number_reg))\n"
   ]
  },
  {
   "cell_type": "code",
   "execution_count": 23,
   "id": "494f4574",
   "metadata": {},
   "outputs": [
    {
     "name": "stdout",
     "output_type": "stream",
     "text": [
      "[1111 2222 1313 1414 1515 1616 1717 1818]\n",
      "[1111 2222 1313 1414 1515 1616 1717 1818]\n"
     ]
    }
   ],
   "source": [
    "students_ids_number_reg[1] = 2222\n",
    "print(students_ids_number)\n",
    "print(students_ids_number_reg)\n"
   ]
  },
  {
   "cell_type": "code",
   "execution_count": 24,
   "id": "3252aabd",
   "metadata": {},
   "outputs": [
    {
     "name": "stdout",
     "output_type": "stream",
     "text": [
      "[1111 2222 1313 1414 1515 1616 1717 1818]\n",
      "[ True  True  True  True  True  True  True  True]\n",
      "id of students_ids_number 140431229988272\n",
      "id of students_ids_number_cp 140431295401008\n"
     ]
    }
   ],
   "source": [
    "# creating copy of array\n",
    "# creating array\n",
    "students_ids_number_cp = students_ids_number.copy()\n",
    "\n",
    "#printing students_ids_cp\n",
    "print(students_ids_number_cp)\n",
    "\n",
    "print(students_ids_number_cp == students_ids_number)\n",
    "\n",
    "# both students_ids and students_ids_cp have different id\n",
    "print(\"id of students_ids_number\", id(students_ids_number))\n",
    "print(\"id of students_ids_number_cp\", id(students_ids_number_cp))\n"
   ]
  },
  {
   "cell_type": "code",
   "execution_count": 25,
   "id": "bafb19ac",
   "metadata": {},
   "outputs": [
    {
     "name": "stdout",
     "output_type": "stream",
     "text": [
      "original array-  [1000 2222 1313 1414 1515 1616 1717 1818]\n",
      "copy-  [1111 2222 1313 1414 1515 1616 1717 1818]\n"
     ]
    }
   ],
   "source": [
    "# changing original array\n",
    "# this will not effect copy\n",
    "students_ids_number[0] = 1000\n",
    "\n",
    "# printing array and copy\n",
    "print(\"original array- \", students_ids_number)\n",
    "print(\"copy- \", students_ids_number_cp)"
   ]
  },
  {
   "cell_type": "code",
   "execution_count": 26,
   "id": "2c0290fa",
   "metadata": {},
   "outputs": [
    {
     "name": "stdout",
     "output_type": "stream",
     "text": [
      "id of students_ids_number 140431229988272\n",
      "id of students_ids_number_v 140431295472432\n",
      "original array-  [2000 2222 1313 1414 1515 1616 1717 1818]\n",
      "array view-  [2000 2222 1313 1414 1515 1616 1717 1818]\n"
     ]
    }
   ],
   "source": [
    "# assigning arr to nc\n",
    "students_ids_number_v = students_ids_number.view()\n",
    "  \n",
    "# both students_ids and nc have same id\n",
    "print(\"id of students_ids_number\", id(students_ids_number))\n",
    "print(\"id of students_ids_number_v\", id(students_ids_number_v))\n",
    "  \n",
    "# updating nc\n",
    "students_ids_number_v[0]= 2000\n",
    "  \n",
    "# printing the values\n",
    "print(\"original array- \", students_ids_number)\n",
    "print(\"array view- \", students_ids_number_v)"
   ]
  },
  {
   "cell_type": "code",
   "execution_count": 28,
   "id": "18486e53",
   "metadata": {},
   "outputs": [
    {
     "name": "stdout",
     "output_type": "stream",
     "text": [
      "None\n",
      "[2000 2222 1313 1414 1515 1616 1717 1818]\n"
     ]
    }
   ],
   "source": [
    "print(students_ids_number_cp.base)\n",
    "print(students_ids_number_v.base)"
   ]
  },
  {
   "cell_type": "code",
   "execution_count": null,
   "id": "d68d6a72",
   "metadata": {},
   "outputs": [],
   "source": []
  }
 ],
 "metadata": {
  "kernelspec": {
   "display_name": "Python 3",
   "language": "python",
   "name": "python3"
  },
  "language_info": {
   "codemirror_mode": {
    "name": "ipython",
    "version": 3
   },
   "file_extension": ".py",
   "mimetype": "text/x-python",
   "name": "python",
   "nbconvert_exporter": "python",
   "pygments_lexer": "ipython3",
   "version": "3.8.8"
  }
 },
 "nbformat": 4,
 "nbformat_minor": 5
}
