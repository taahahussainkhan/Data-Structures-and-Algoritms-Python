{
 "cells": [
  {
   "cell_type": "markdown",
   "id": "95427fe3",
   "metadata": {},
   "source": [
    "# Adding, removing and sorting elements"
   ]
  },
  {
   "cell_type": "code",
   "execution_count": 2,
   "id": "74577a35",
   "metadata": {},
   "outputs": [],
   "source": [
    "import numpy as np"
   ]
  },
  {
   "cell_type": "code",
   "execution_count": 3,
   "id": "a3bb238d",
   "metadata": {},
   "outputs": [
    {
     "name": "stdout",
     "output_type": "stream",
     "text": [
      "[1 2 3 4 5]\n"
     ]
    }
   ],
   "source": [
    "first_arr = np.array([1, 2, 3, 5])\n",
    "\n",
    "new_first_arr = np.insert(first_arr, 3, 4)\n",
    "\n",
    "print(new_first_arr)"
   ]
  },
  {
   "cell_type": "code",
   "execution_count": 21,
   "id": "a44c88dc",
   "metadata": {},
   "outputs": [
    {
     "name": "stdout",
     "output_type": "stream",
     "text": [
      "[1 2 3 4 5]\n"
     ]
    }
   ],
   "source": [
    "second_arr = np.array([1,2,3,4])\n",
    "\n",
    "new_second_arr = np.append (second_arr, 5)\n",
    "\n",
    "print(new_second_arr)"
   ]
  },
  {
   "cell_type": "code",
   "execution_count": 4,
   "id": "119d992d",
   "metadata": {},
   "outputs": [
    {
     "name": "stdout",
     "output_type": "stream",
     "text": [
      "[1 2 3 4]\n"
     ]
    }
   ],
   "source": [
    "third_arr = np.array([1,2,3,4,5])\n",
    "\n",
    "del_arr = np.delete(third_arr, 4)\n",
    "\n",
    "print(del_arr)"
   ]
  },
  {
   "cell_type": "code",
   "execution_count": 2,
   "id": "6771e490",
   "metadata": {},
   "outputs": [
    {
     "name": "stdout",
     "output_type": "stream",
     "text": [
      "[ 5  2  2 13 18  9  4 15  4  8  1 14  5 15  6  7  2 16 12  5]\n"
     ]
    }
   ],
   "source": [
    "integers_arr=np.random.randint(0,20,20)\n",
    "print(integers_arr)"
   ]
  },
  {
   "cell_type": "code",
   "execution_count": 3,
   "id": "277c2373",
   "metadata": {},
   "outputs": [
    {
     "name": "stdout",
     "output_type": "stream",
     "text": [
      "[ 1  2  2  2  4  4  5  5  5  6  7  8  9 12 13 14 15 15 16 18]\n"
     ]
    }
   ],
   "source": [
    "print(np.sort(integers_arr))"
   ]
  },
  {
   "cell_type": "code",
   "execution_count": 14,
   "id": "69a863e6",
   "metadata": {},
   "outputs": [
    {
     "name": "stdout",
     "output_type": "stream",
     "text": [
      "[[2 3 4 5 7]\n",
      " [0 1 3 5 8]]\n"
     ]
    }
   ],
   "source": [
    "integers_2dim_arr = np.array([[3, 2, 5,7, 4], [5, 0, 8,3, 1]])\n",
    "\n",
    "print(np.sort(integers_2dim_arr))"
   ]
  },
  {
   "cell_type": "code",
   "execution_count": 4,
   "id": "8c3657b7",
   "metadata": {},
   "outputs": [
    {
     "name": "stdout",
     "output_type": "stream",
     "text": [
      "['black' 'blue' 'green' 'orange' 'pink' 'red' 'white' 'yellow']\n"
     ]
    }
   ],
   "source": [
    "colors = np.array(['orange','green','yellow','white','black','pink','blue','red'])\n",
    "\n",
    "print(np.sort(colors))"
   ]
  },
  {
   "cell_type": "code",
   "execution_count": null,
   "id": "1038ac49",
   "metadata": {},
   "outputs": [],
   "source": []
  }
 ],
 "metadata": {
  "kernelspec": {
   "display_name": "Python 3",
   "language": "python",
   "name": "python3"
  },
  "language_info": {
   "codemirror_mode": {
    "name": "ipython",
    "version": 3
   },
   "file_extension": ".py",
   "mimetype": "text/x-python",
   "name": "python",
   "nbconvert_exporter": "python",
   "pygments_lexer": "ipython3",
   "version": "3.8.8"
  }
 },
 "nbformat": 4,
 "nbformat_minor": 5
}
