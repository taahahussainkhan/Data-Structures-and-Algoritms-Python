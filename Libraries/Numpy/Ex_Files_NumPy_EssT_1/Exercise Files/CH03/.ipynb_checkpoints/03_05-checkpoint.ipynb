{
 "cells": [
  {
   "cell_type": "markdown",
   "id": "421f49f2",
   "metadata": {},
   "source": [
    "# Joining and splitting ararys"
   ]
  },
  {
   "cell_type": "code",
   "execution_count": 1,
   "id": "63c97954",
   "metadata": {},
   "outputs": [],
   "source": [
    "import numpy as np"
   ]
  },
  {
   "cell_type": "code",
   "execution_count": 9,
   "id": "512b3a79",
   "metadata": {},
   "outputs": [
    {
     "name": "stdout",
     "output_type": "stream",
     "text": [
      "[ 1  2  3  4  5  6  7  8  9 10]\n"
     ]
    }
   ],
   "source": [
    "first_arr= np.arange(1,11)\n",
    "print(first_arr)"
   ]
  },
  {
   "cell_type": "code",
   "execution_count": 7,
   "id": "7ed20268",
   "metadata": {},
   "outputs": [
    {
     "name": "stdout",
     "output_type": "stream",
     "text": [
      "[11 12 13 14 15 16 17 18 19 20]\n"
     ]
    }
   ],
   "source": [
    "second_arr= np.arange(11,21)\n",
    "print(second_arr)"
   ]
  },
  {
   "cell_type": "code",
   "execution_count": 10,
   "id": "181ca20f",
   "metadata": {},
   "outputs": [
    {
     "name": "stdout",
     "output_type": "stream",
     "text": [
      "[ 1  2  3  4  5  6  7  8  9 10 11 12 13 14 15 16 17 18 19 20]\n"
     ]
    }
   ],
   "source": [
    "con_arr = np.concatenate((first_arr, second_arr))\n",
    "print(con_arr)"
   ]
  },
  {
   "cell_type": "code",
   "execution_count": 17,
   "id": "e21354bd",
   "metadata": {},
   "outputs": [
    {
     "name": "stdout",
     "output_type": "stream",
     "text": [
      "[[ 1  2  3  4  5]\n",
      " [ 6  7  8  9 10]]\n"
     ]
    }
   ],
   "source": [
    "third_2darr=np.array([[1,2,3,4,5], [6,7,8,9,10]])\n",
    "print(third_2darr)"
   ]
  },
  {
   "cell_type": "code",
   "execution_count": 18,
   "id": "480ed450",
   "metadata": {},
   "outputs": [
    {
     "name": "stdout",
     "output_type": "stream",
     "text": [
      "[[11 12 13 14 15]\n",
      " [16 17 18 19 20]]\n"
     ]
    }
   ],
   "source": [
    "fourth_2darr=np.array([[11,12,13,14,15], [16,17,18,19,20]])\n",
    "print(fourth_2darr)"
   ]
  },
  {
   "cell_type": "code",
   "execution_count": 31,
   "id": "68c5fe87",
   "metadata": {
    "scrolled": true
   },
   "outputs": [
    {
     "name": "stdout",
     "output_type": "stream",
     "text": [
      "[[ 1  2  3  4  5 11 12 13 14 15]\n",
      " [ 6  7  8  9 10 16 17 18 19 20]]\n"
     ]
    }
   ],
   "source": [
    "con2d_arr = np.concatenate((third_2darr, fourth_2darr),axis=1)\n",
    "\n",
    "print(con2d_arr)"
   ]
  },
  {
   "cell_type": "code",
   "execution_count": 32,
   "id": "8c72413d",
   "metadata": {},
   "outputs": [
    {
     "name": "stdout",
     "output_type": "stream",
     "text": [
      "[[ 1  2  3  4  5  6  7  8  9 10]\n",
      " [11 12 13 14 15 16 17 18 19 20]]\n"
     ]
    }
   ],
   "source": [
    "st_arr = np.stack((first_arr, second_arr))\n",
    "\n",
    "print(st_arr)"
   ]
  },
  {
   "cell_type": "code",
   "execution_count": 26,
   "id": "db4acd72",
   "metadata": {},
   "outputs": [
    {
     "name": "stdout",
     "output_type": "stream",
     "text": [
      "[ 1  2  3  4  5  6  7  8  9 10 11 12 13 14 15 16 17 18 19 20]\n"
     ]
    }
   ],
   "source": [
    "hst_arr = np.hstack((first_arr, second_arr))\n",
    "\n",
    "print(hst_arr)"
   ]
  },
  {
   "cell_type": "code",
   "execution_count": 27,
   "id": "e0c2e35e",
   "metadata": {},
   "outputs": [
    {
     "name": "stdout",
     "output_type": "stream",
     "text": [
      "[[ 1  2  3  4  5  6  7  8  9 10]\n",
      " [11 12 13 14 15 16 17 18 19 20]]\n"
     ]
    }
   ],
   "source": [
    "vst_arr = np.vstack((first_arr, second_arr))\n",
    "\n",
    "print(vst_arr)"
   ]
  },
  {
   "cell_type": "code",
   "execution_count": 36,
   "id": "62f04a76",
   "metadata": {},
   "outputs": [
    {
     "name": "stdout",
     "output_type": "stream",
     "text": [
      "[ 1  2  3  4  5  6  7  8  9 10 11 12]\n",
      "[array([1, 2, 3]), array([4, 5, 6]), array([7, 8, 9]), array([10, 11, 12])]\n"
     ]
    }
   ],
   "source": [
    "fifth_arr=np.arange(1,13)\n",
    "print(fifth_arr)\n",
    "sp_arr = np.array_split(fifth_arr, 4)\n",
    "print(sp_arr)"
   ]
  },
  {
   "cell_type": "code",
   "execution_count": 37,
   "id": "e95718dc",
   "metadata": {},
   "outputs": [
    {
     "name": "stdout",
     "output_type": "stream",
     "text": [
      "[4 5 6]\n"
     ]
    }
   ],
   "source": [
    "print(sp_arr[1])"
   ]
  },
  {
   "cell_type": "code",
   "execution_count": 38,
   "id": "81044b01",
   "metadata": {},
   "outputs": [
    {
     "name": "stdout",
     "output_type": "stream",
     "text": [
      "[array([1, 2]), array([3, 4]), array([5, 6]), array([7, 8]), array([9]), array([10]), array([11]), array([12])]\n"
     ]
    }
   ],
   "source": [
    "sp8_arr = np.array_split(fifth_arr, 8)\n",
    "print(sp8_arr)"
   ]
  },
  {
   "cell_type": "code",
   "execution_count": 41,
   "id": "0354c920",
   "metadata": {},
   "outputs": [
    {
     "name": "stdout",
     "output_type": "stream",
     "text": [
      "[array([[1],\n",
      "       [6]]), array([[2],\n",
      "       [7]]), array([[3],\n",
      "       [8]]), array([[4],\n",
      "       [9]]), array([[ 5],\n",
      "       [10]])]\n"
     ]
    }
   ],
   "source": [
    "\n",
    "hs_arr = np.hsplit(third_2darr, 5)\n",
    "\n",
    "print(hs_arr)"
   ]
  },
  {
   "cell_type": "code",
   "execution_count": 43,
   "id": "1ce2cc11",
   "metadata": {},
   "outputs": [
    {
     "name": "stdout",
     "output_type": "stream",
     "text": [
      "[array([[1, 2, 3, 4, 5]]), array([[ 6,  7,  8,  9, 10]])]\n"
     ]
    }
   ],
   "source": [
    "vs_arr = np.vsplit(third_2darr, 2)\n",
    "\n",
    "print(vs_arr)"
   ]
  },
  {
   "cell_type": "code",
   "execution_count": null,
   "id": "2d5a6e5e",
   "metadata": {},
   "outputs": [],
   "source": []
  }
 ],
 "metadata": {
  "kernelspec": {
   "display_name": "Python 3",
   "language": "python",
   "name": "python3"
  },
  "language_info": {
   "codemirror_mode": {
    "name": "ipython",
    "version": 3
   },
   "file_extension": ".py",
   "mimetype": "text/x-python",
   "name": "python",
   "nbconvert_exporter": "python",
   "pygments_lexer": "ipython3",
   "version": "3.8.8"
  }
 },
 "nbformat": 4,
 "nbformat_minor": 5
}
