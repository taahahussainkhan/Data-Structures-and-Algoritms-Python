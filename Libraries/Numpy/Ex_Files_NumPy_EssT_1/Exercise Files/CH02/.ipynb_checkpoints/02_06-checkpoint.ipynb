{
 "cells": [
  {
   "cell_type": "markdown",
   "id": "bbce75f8",
   "metadata": {},
   "source": [
    "# Finding the shape and size of an array"
   ]
  },
  {
   "cell_type": "code",
   "execution_count": 1,
   "id": "8c1240b9",
   "metadata": {},
   "outputs": [],
   "source": [
    "import numpy as np\n"
   ]
  },
  {
   "cell_type": "code",
   "execution_count": 32,
   "id": "b8dc3da4",
   "metadata": {},
   "outputs": [
    {
     "name": "stdout",
     "output_type": "stream",
     "text": [
      "[ 0  1  2  3  4  5  6  7  8  9 10 11 12 13 14 15 16 17 18 19]\n",
      "Dimension of first_arr is 1\n"
     ]
    }
   ],
   "source": [
    "first_arr= np.arange(20)\n",
    "print(first_arr)\n",
    "print('Dimension of first_arr is',first_arr.ndim)"
   ]
  },
  {
   "cell_type": "code",
   "execution_count": 15,
   "id": "3fc127d4",
   "metadata": {},
   "outputs": [
    {
     "name": "stdout",
     "output_type": "stream",
     "text": [
      "[[ 1.  2.]\n",
      " [ 2.  4.]\n",
      " [ 3.  6.]\n",
      " [ 4.  8.]\n",
      " [ 5. 10.]\n",
      " [ 6. 12.]\n",
      " [ 7. 14.]\n",
      " [ 8. 16.]\n",
      " [ 9. 18.]\n",
      " [10. 20.]]\n",
      "Dimension of second_arr is 2\n"
     ]
    }
   ],
   "source": [
    "second_arr= np.linspace((1,2),(10,20),10)\n",
    "print(second_arr)\n",
    "print('Dimension of second_arr is',second_arr.ndim)"
   ]
  },
  {
   "cell_type": "code",
   "execution_count": 30,
   "id": "abb1ad37",
   "metadata": {},
   "outputs": [
    {
     "name": "stdout",
     "output_type": "stream",
     "text": [
      "[[[10 10]\n",
      "  [10 10]]\n",
      "\n",
      " [[10 10]\n",
      "  [10 10]]]\n",
      "Dimension of third_arr is 3\n"
     ]
    }
   ],
   "source": [
    "third_arr= np.full((2,2,2),10)\n",
    "print(third_arr)\n",
    "print('Dimension of third_arr is',third_arr.ndim)\n"
   ]
  },
  {
   "cell_type": "code",
   "execution_count": 34,
   "id": "2eff9ac5",
   "metadata": {},
   "outputs": [
    {
     "data": {
      "text/plain": [
       "(20,)"
      ]
     },
     "execution_count": 34,
     "metadata": {},
     "output_type": "execute_result"
    }
   ],
   "source": [
    "np.shape(first_arr)"
   ]
  },
  {
   "cell_type": "code",
   "execution_count": 35,
   "id": "214620ab",
   "metadata": {},
   "outputs": [
    {
     "data": {
      "text/plain": [
       "(10, 2)"
      ]
     },
     "execution_count": 35,
     "metadata": {},
     "output_type": "execute_result"
    }
   ],
   "source": [
    "np.shape(second_arr)"
   ]
  },
  {
   "cell_type": "code",
   "execution_count": 36,
   "id": "0f7351b6",
   "metadata": {},
   "outputs": [
    {
     "data": {
      "text/plain": [
       "(2, 2, 2)"
      ]
     },
     "execution_count": 36,
     "metadata": {},
     "output_type": "execute_result"
    }
   ],
   "source": [
    "np.shape(third_arr)"
   ]
  },
  {
   "cell_type": "code",
   "execution_count": 37,
   "id": "5b4a2025",
   "metadata": {},
   "outputs": [
    {
     "data": {
      "text/plain": [
       "20"
      ]
     },
     "execution_count": 37,
     "metadata": {},
     "output_type": "execute_result"
    }
   ],
   "source": [
    "np.size(first_arr)"
   ]
  },
  {
   "cell_type": "code",
   "execution_count": 38,
   "id": "0d4116f0",
   "metadata": {},
   "outputs": [
    {
     "data": {
      "text/plain": [
       "20"
      ]
     },
     "execution_count": 38,
     "metadata": {},
     "output_type": "execute_result"
    }
   ],
   "source": [
    "np.size(second_arr)"
   ]
  },
  {
   "cell_type": "code",
   "execution_count": 39,
   "id": "08f4f2ba",
   "metadata": {},
   "outputs": [
    {
     "data": {
      "text/plain": [
       "8"
      ]
     },
     "execution_count": 39,
     "metadata": {},
     "output_type": "execute_result"
    }
   ],
   "source": [
    "np.size(third_arr)"
   ]
  },
  {
   "cell_type": "code",
   "execution_count": null,
   "id": "4d7a28be",
   "metadata": {},
   "outputs": [],
   "source": []
  }
 ],
 "metadata": {
  "kernelspec": {
   "display_name": "Python 3",
   "language": "python",
   "name": "python3"
  },
  "language_info": {
   "codemirror_mode": {
    "name": "ipython",
    "version": 3
   },
   "file_extension": ".py",
   "mimetype": "text/x-python",
   "name": "python",
   "nbconvert_exporter": "python",
   "pygments_lexer": "ipython3",
   "version": "3.8.8"
  }
 },
 "nbformat": 4,
 "nbformat_minor": 5
}
