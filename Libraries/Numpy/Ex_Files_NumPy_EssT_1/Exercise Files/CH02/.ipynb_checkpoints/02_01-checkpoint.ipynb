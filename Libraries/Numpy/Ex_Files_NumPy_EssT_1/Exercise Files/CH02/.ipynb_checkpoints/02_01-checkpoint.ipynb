{
 "cells": [
  {
   "cell_type": "markdown",
   "id": "886b525e",
   "metadata": {},
   "source": [
    "# 02_01 Array types and conversions between types"
   ]
  },
  {
   "cell_type": "markdown",
   "id": "7b1c4214",
   "metadata": {},
   "source": [
    "### "
   ]
  },
  {
   "cell_type": "code",
   "execution_count": 91,
   "id": "016cc1ed",
   "metadata": {},
   "outputs": [],
   "source": [
    "import numpy as np"
   ]
  },
  {
   "cell_type": "code",
   "execution_count": 97,
   "id": "f6ade4db",
   "metadata": {},
   "outputs": [
    {
     "name": "stdout",
     "output_type": "stream",
     "text": [
      "[10 20 30 40 50]\n"
     ]
    }
   ],
   "source": [
    "integers = np.array([10,20,30,40,50])\n",
    "print (integers)"
   ]
  },
  {
   "cell_type": "code",
   "execution_count": 101,
   "id": "1437a7d0",
   "metadata": {},
   "outputs": [
    {
     "data": {
      "text/plain": [
       "10"
      ]
     },
     "execution_count": 101,
     "metadata": {},
     "output_type": "execute_result"
    }
   ],
   "source": [
    "integers[0]"
   ]
  },
  {
   "cell_type": "code",
   "execution_count": 104,
   "id": "c9003dfd",
   "metadata": {},
   "outputs": [],
   "source": [
    "integers[0]=20"
   ]
  },
  {
   "cell_type": "code",
   "execution_count": 106,
   "id": "295a1761",
   "metadata": {},
   "outputs": [
    {
     "data": {
      "text/plain": [
       "array([20, 20, 30, 40, 50])"
      ]
     },
     "execution_count": 106,
     "metadata": {},
     "output_type": "execute_result"
    }
   ],
   "source": [
    "integers"
   ]
  },
  {
   "cell_type": "code",
   "execution_count": 108,
   "id": "140b685e",
   "metadata": {},
   "outputs": [
    {
     "data": {
      "text/plain": [
       "array([21, 20, 30, 40, 50])"
      ]
     },
     "execution_count": 108,
     "metadata": {},
     "output_type": "execute_result"
    }
   ],
   "source": [
    "integers[0]=21.5\n",
    "integers"
   ]
  },
  {
   "cell_type": "code",
   "execution_count": 109,
   "id": "0734c69e",
   "metadata": {},
   "outputs": [
    {
     "data": {
      "text/plain": [
       "dtype('int64')"
      ]
     },
     "execution_count": 109,
     "metadata": {},
     "output_type": "execute_result"
    }
   ],
   "source": [
    "integers.dtype"
   ]
  },
  {
   "cell_type": "code",
   "execution_count": 37,
   "id": "25048924",
   "metadata": {},
   "outputs": [
    {
     "data": {
      "text/plain": [
       "numpy.ndarray"
      ]
     },
     "execution_count": 37,
     "metadata": {},
     "output_type": "execute_result"
    }
   ],
   "source": [
    "type(integers)"
   ]
  },
  {
   "cell_type": "code",
   "execution_count": 38,
   "id": "e9f59c28",
   "metadata": {},
   "outputs": [
    {
     "data": {
      "text/plain": [
       "dtype('int64')"
      ]
     },
     "execution_count": 38,
     "metadata": {},
     "output_type": "execute_result"
    }
   ],
   "source": [
    "integers.dtype"
   ]
  },
  {
   "cell_type": "code",
   "execution_count": 84,
   "id": "a93426a6",
   "metadata": {},
   "outputs": [
    {
     "name": "stdout",
     "output_type": "stream",
     "text": [
      "[1.2 2.4 3.5 5.6 6.8]\n"
     ]
    },
    {
     "data": {
      "text/plain": [
       "dtype('float64')"
      ]
     },
     "execution_count": 84,
     "metadata": {},
     "output_type": "execute_result"
    }
   ],
   "source": [
    "floats=np.array([1.2,2.4,3.5,5.6,6.8])\n",
    "print(floats)\n",
    "floats.dtype"
   ]
  },
  {
   "cell_type": "code",
   "execution_count": 68,
   "id": "28691a6c",
   "metadata": {},
   "outputs": [
    {
     "data": {
      "text/plain": [
       "20"
      ]
     },
     "execution_count": 68,
     "metadata": {},
     "output_type": "execute_result"
    }
   ],
   "source": [
    "integers[0]"
   ]
  },
  {
   "cell_type": "code",
   "execution_count": 69,
   "id": "da9884ea",
   "metadata": {},
   "outputs": [
    {
     "data": {
      "text/plain": [
       "50"
      ]
     },
     "execution_count": 69,
     "metadata": {},
     "output_type": "execute_result"
    }
   ],
   "source": [
    "integers[4]"
   ]
  },
  {
   "cell_type": "code",
   "execution_count": 77,
   "id": "70511220",
   "metadata": {},
   "outputs": [
    {
     "data": {
      "text/plain": [
       "array([20, 20, 30, 40, 50])"
      ]
     },
     "execution_count": 77,
     "metadata": {},
     "output_type": "execute_result"
    }
   ],
   "source": [
    "integers[0]=20\n",
    "integers"
   ]
  },
  {
   "cell_type": "code",
   "execution_count": 44,
   "id": "0d98394a",
   "metadata": {},
   "outputs": [
    {
     "data": {
      "text/plain": [
       "array([21, 20, 30, 40, 50])"
      ]
     },
     "execution_count": 44,
     "metadata": {},
     "output_type": "execute_result"
    }
   ],
   "source": [
    "integers[0]=21.5\n",
    "integers"
   ]
  },
  {
   "cell_type": "code",
   "execution_count": 114,
   "id": "d913c4f7",
   "metadata": {},
   "outputs": [
    {
     "data": {
      "text/plain": [
       "5"
      ]
     },
     "execution_count": 114,
     "metadata": {},
     "output_type": "execute_result"
    }
   ],
   "source": [
    "smallerIntegers = np.array(integers, dtype = np.int8)\n",
    "smallerIntegers\n",
    "smallerIntegers.nbytes\n"
   ]
  },
  {
   "cell_type": "code",
   "execution_count": 115,
   "id": "529b9951",
   "metadata": {},
   "outputs": [
    {
     "data": {
      "text/plain": [
       "5"
      ]
     },
     "execution_count": 115,
     "metadata": {},
     "output_type": "execute_result"
    }
   ],
   "source": [
    "smallerIntegers.nbytes"
   ]
  },
  {
   "cell_type": "code",
   "execution_count": 116,
   "id": "d38af007",
   "metadata": {},
   "outputs": [
    {
     "data": {
      "text/plain": [
       "array([ 127, -128, -127], dtype=int8)"
      ]
     },
     "execution_count": 116,
     "metadata": {},
     "output_type": "execute_result"
    }
   ],
   "source": [
    "overflow = np.array([127,128,129], dtype = np.int8)\n",
    "overflow\n"
   ]
  },
  {
   "cell_type": "code",
   "execution_count": 120,
   "id": "27a542dd",
   "metadata": {},
   "outputs": [
    {
     "data": {
      "text/plain": [
       "array([1.2, 2.3, 3.4, 5.1, 8.3])"
      ]
     },
     "execution_count": 120,
     "metadata": {},
     "output_type": "execute_result"
    }
   ],
   "source": [
    "floats=np.array([1.2,2.3,3.4,5.1,8.3])\n",
    "floats"
   ]
  },
  {
   "cell_type": "code",
   "execution_count": 121,
   "id": "5d33982b",
   "metadata": {},
   "outputs": [
    {
     "data": {
      "text/plain": [
       "dtype('float64')"
      ]
     },
     "execution_count": 121,
     "metadata": {},
     "output_type": "execute_result"
    }
   ],
   "source": [
    "floats.dtype"
   ]
  }
 ],
 "metadata": {
  "kernelspec": {
   "display_name": "Python 3",
   "language": "python",
   "name": "python3"
  },
  "language_info": {
   "codemirror_mode": {
    "name": "ipython",
    "version": 3
   },
   "file_extension": ".py",
   "mimetype": "text/x-python",
   "name": "python",
   "nbconvert_exporter": "python",
   "pygments_lexer": "ipython3",
   "version": "3.8.8"
  }
 },
 "nbformat": 4,
 "nbformat_minor": 5
}
