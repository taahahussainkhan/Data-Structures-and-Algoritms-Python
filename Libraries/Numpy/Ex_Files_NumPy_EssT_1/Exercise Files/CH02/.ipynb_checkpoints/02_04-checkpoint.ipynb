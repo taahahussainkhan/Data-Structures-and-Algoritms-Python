{
 "cells": [
  {
   "cell_type": "markdown",
   "id": "053e91ab",
   "metadata": {},
   "source": [
    "# Intrisic NumPy creation"
   ]
  },
  {
   "cell_type": "code",
   "execution_count": 11,
   "id": "08a48de0",
   "metadata": {},
   "outputs": [
    {
     "name": "stdout",
     "output_type": "stream",
     "text": [
      "[0 1 2 3 4 5 6 7 8 9]\n"
     ]
    },
    {
     "data": {
      "text/plain": [
       "dtype('int64')"
      ]
     },
     "execution_count": 11,
     "metadata": {},
     "output_type": "execute_result"
    }
   ],
   "source": [
    "import numpy as np\n",
    "integers_array= np.arange(10)\n",
    "print(integers_array)\n",
    "integers_array.dtype"
   ]
  },
  {
   "cell_type": "code",
   "execution_count": 13,
   "id": "8704608c",
   "metadata": {},
   "outputs": [
    {
     "name": "stdout",
     "output_type": "stream",
     "text": [
      "[100 101 102 103 104 105 106 107 108 109 110 111 112 113 114 115 116 117\n",
      " 118 119 120 121 122 123 124 125 126 127 128 129]\n"
     ]
    }
   ],
   "source": [
    "integers_second_array=np.arange(start=100, stop=130)\n",
    "print(integers_second_array)"
   ]
  },
  {
   "cell_type": "code",
   "execution_count": 30,
   "id": "2eaacb65",
   "metadata": {},
   "outputs": [
    {
     "name": "stdout",
     "output_type": "stream",
     "text": [
      "[100 102 104 106 108 110 112 114 116 118 120 122 124 126 128 130 132 134\n",
      " 136 138 140 142 144 146 148 150]\n"
     ]
    }
   ],
   "source": [
    "integers_third_array= np.arange(start=100, stop=151, step=2)\n",
    "print(integers_third_array)"
   ]
  },
  {
   "cell_type": "code",
   "execution_count": 19,
   "id": "f7c2bb2d",
   "metadata": {},
   "outputs": [
    {
     "name": "stdout",
     "output_type": "stream",
     "text": [
      "[10.         10.20408163 10.40816327 10.6122449  10.81632653 11.02040816\n",
      " 11.2244898  11.42857143 11.63265306 11.83673469 12.04081633 12.24489796\n",
      " 12.44897959 12.65306122 12.85714286 13.06122449 13.26530612 13.46938776\n",
      " 13.67346939 13.87755102 14.08163265 14.28571429 14.48979592 14.69387755\n",
      " 14.89795918 15.10204082 15.30612245 15.51020408 15.71428571 15.91836735\n",
      " 16.12244898 16.32653061 16.53061224 16.73469388 16.93877551 17.14285714\n",
      " 17.34693878 17.55102041 17.75510204 17.95918367 18.16326531 18.36734694\n",
      " 18.57142857 18.7755102  18.97959184 19.18367347 19.3877551  19.59183673\n",
      " 19.79591837 20.        ]\n"
     ]
    }
   ],
   "source": [
    "first_floats_arr= np.linspace(10, 20)\n",
    "print(first_floats_arr)"
   ]
  },
  {
   "cell_type": "code",
   "execution_count": 28,
   "id": "920fbaf6",
   "metadata": {},
   "outputs": [
    {
     "name": "stdout",
     "output_type": "stream",
     "text": [
      "[10.  12.5 15.  17.5 20. ]\n"
     ]
    }
   ],
   "source": [
    "second_floats_arr= np.linspace(10, 20,5)\n",
    "print(second_floats_arr)"
   ]
  },
  {
   "cell_type": "code",
   "execution_count": 31,
   "id": "f28c0c0c",
   "metadata": {},
   "outputs": [
    {
     "name": "stdout",
     "output_type": "stream",
     "text": [
      "[0.0497346  0.23202593 0.37375221 0.61922993 0.17660278 0.37725182\n",
      " 0.82139733 0.05763348 0.93491967 0.75330017]\n"
     ]
    }
   ],
   "source": [
    "first_rand_arr=np.random.rand(10)\n",
    "print(first_rand_arr)"
   ]
  },
  {
   "cell_type": "code",
   "execution_count": 38,
   "id": "6e0b0c80",
   "metadata": {},
   "outputs": [
    {
     "name": "stdout",
     "output_type": "stream",
     "text": [
      "[[0.07523108 0.40230863 0.73483813 0.28403406]\n",
      " [0.01456277 0.19762335 0.53428938 0.19450564]\n",
      " [0.7163218  0.03450631 0.80544899 0.68450347]\n",
      " [0.88456831 0.21068319 0.93968822 0.19481783]]\n"
     ]
    },
    {
     "data": {
      "text/plain": [
       "2"
      ]
     },
     "execution_count": 38,
     "metadata": {},
     "output_type": "execute_result"
    }
   ],
   "source": [
    "second_rand_arr=np.random.rand(4,4)\n",
    "print(second_rand_arr)\n",
    "second_rand_arr.ndim"
   ]
  },
  {
   "cell_type": "code",
   "execution_count": 40,
   "id": "6a3e25a5",
   "metadata": {},
   "outputs": [
    {
     "name": "stdout",
     "output_type": "stream",
     "text": [
      "[97 48 69 24 50 24 12  6 16 16  2 98 61 13 33 12 76 15 32 93]\n"
     ]
    }
   ],
   "source": [
    "third_rand_arr=np.random.randint(0,100,20)\n",
    "print(third_rand_arr)\n"
   ]
  },
  {
   "cell_type": "code",
   "execution_count": null,
   "id": "0543b018",
   "metadata": {},
   "outputs": [],
   "source": []
  }
 ],
 "metadata": {
  "kernelspec": {
   "display_name": "Python 3",
   "language": "python",
   "name": "python3"
  },
  "language_info": {
   "codemirror_mode": {
    "name": "ipython",
    "version": 3
   },
   "file_extension": ".py",
   "mimetype": "text/x-python",
   "name": "python",
   "nbconvert_exporter": "python",
   "pygments_lexer": "ipython3",
   "version": "3.8.8"
  }
 },
 "nbformat": 4,
 "nbformat_minor": 5
}
