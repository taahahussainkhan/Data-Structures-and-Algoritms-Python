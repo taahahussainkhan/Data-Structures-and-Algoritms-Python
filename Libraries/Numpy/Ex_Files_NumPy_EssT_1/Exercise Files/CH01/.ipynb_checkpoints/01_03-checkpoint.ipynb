{
 "cells": [
  {
   "cell_type": "markdown",
   "id": "b576b940",
   "metadata": {},
   "source": [
    "# Jupyter notebook basics"
   ]
  },
  {
   "cell_type": "markdown",
   "id": "8d89cc05",
   "metadata": {},
   "source": [
    "This is our first Jupyter notebook\n",
    "\n",
    "Let's learn the basics."
   ]
  },
  {
   "cell_type": "markdown",
   "id": "886b525e",
   "metadata": {},
   "source": [
    "### 01_03 Jupyter notebook basics"
   ]
  },
  {
   "cell_type": "markdown",
   "id": "7b1c4214",
   "metadata": {},
   "source": [
    "### "
   ]
  },
  {
   "cell_type": "code",
   "execution_count": 11,
   "id": "7d493f4c",
   "metadata": {},
   "outputs": [
    {
     "name": "stdout",
     "output_type": "stream",
     "text": [
      "Hello NumPy\n"
     ]
    }
   ],
   "source": [
    "print('Hello NumPy')"
   ]
  },
  {
   "cell_type": "code",
   "execution_count": 13,
   "id": "9556a0f3",
   "metadata": {},
   "outputs": [
    {
     "data": {
      "text/plain": [
       "42"
      ]
     },
     "execution_count": 13,
     "metadata": {},
     "output_type": "execute_result"
    }
   ],
   "source": [
    "2+8*5"
   ]
  },
  {
   "cell_type": "markdown",
   "id": "833ca299",
   "metadata": {},
   "source": [
    "### This is a markdown cell"
   ]
  },
  {
   "cell_type": "code",
   "execution_count": null,
   "id": "004e2bbc",
   "metadata": {},
   "outputs": [],
   "source": []
  }
 ],
 "metadata": {
  "kernelspec": {
   "display_name": "Python 3",
   "language": "python",
   "name": "python3"
  },
  "language_info": {
   "codemirror_mode": {
    "name": "ipython",
    "version": 3
   },
   "file_extension": ".py",
   "mimetype": "text/x-python",
   "name": "python",
   "nbconvert_exporter": "python",
   "pygments_lexer": "ipython3",
   "version": "3.8.8"
  }
 },
 "nbformat": 4,
 "nbformat_minor": 5
}
